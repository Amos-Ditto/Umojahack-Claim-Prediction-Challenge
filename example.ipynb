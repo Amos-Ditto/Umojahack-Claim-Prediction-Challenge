{
 "cells": [
  {
   "cell_type": "code",
   "execution_count": 8,
   "metadata": {},
   "outputs": [
    {
     "name": "stderr",
     "output_type": "stream",
     "text": [
      "2022-03-20 13:07:33.532193: W tensorflow/stream_executor/platform/default/dso_loader.cc:64] Could not load dynamic library 'libcudart.so.11.0'; dlerror: libcudart.so.11.0: cannot open shared object file: No such file or directory\n",
      "2022-03-20 13:07:33.532239: I tensorflow/stream_executor/cuda/cudart_stub.cc:29] Ignore above cudart dlerror if you do not have a GPU set up on your machine.\n"
     ]
    }
   ],
   "source": [
    "import pandas as pd\n",
    "import tensorflow as tf\n",
    "import numpy as np\n"
   ]
  },
  {
   "cell_type": "code",
   "execution_count": 9,
   "metadata": {},
   "outputs": [],
   "source": [
    "path_train = 'data/train.csv'\n",
    "\n",
    "df = pd.read_csv(path_train)\n",
    "\n",
    "df = df.drop(['policy_number'], axis=1)\n",
    "df = df.drop(['loss_date'], axis=1)\n",
    "df = df.drop(['claim_id'], axis=1)\n",
    "df = df.drop(['claim_number'], axis=1)"
   ]
  },
  {
   "cell_type": "code",
   "execution_count": 11,
   "metadata": {},
   "outputs": [],
   "source": [
    "target = np.array(df['target'])\n",
    "sum_insured = np.array(df['sum_insured'])\n",
    "x_df = df[['product','agent','class_of_business','risk_type','client_type','renewal_frequency',\n",
    "    'primary_cause','secondary_cause','branch'\n",
    " ]]\n",
    "x_train = np.array(x_df)"
   ]
  },
  {
   "cell_type": "code",
   "execution_count": 19,
   "metadata": {},
   "outputs": [
    {
     "data": {
      "text/plain": [
       "9371    prod00015\n",
       "9372    prod00005\n",
       "9373    prod00005\n",
       "9374    prod00005\n",
       "9375    prod00027\n",
       "Name: product, dtype: object"
      ]
     },
     "execution_count": 19,
     "metadata": {},
     "output_type": "execute_result"
    }
   ],
   "source": [
    "product = x_df['product']\n",
    "product.tail()"
   ]
  },
  {
   "cell_type": "code",
   "execution_count": 13,
   "metadata": {},
   "outputs": [],
   "source": [
    "from tensorflow import keras"
   ]
  },
  {
   "cell_type": "code",
   "execution_count": null,
   "metadata": {},
   "outputs": [],
   "source": []
  },
  {
   "cell_type": "code",
   "execution_count": null,
   "metadata": {},
   "outputs": [],
   "source": []
  },
  {
   "cell_type": "code",
   "execution_count": 25,
   "metadata": {},
   "outputs": [],
   "source": [
    "product_1 = []\n",
    "for x in np.array(product):\n",
    "    c = []\n",
    "    c.append(x)\n",
    "    product_1.append(c)\n",
    "    c=[]"
   ]
  },
  {
   "cell_type": "code",
   "execution_count": 26,
   "metadata": {},
   "outputs": [
    {
     "data": {
      "text/plain": [
       "[['prod00027'],\n",
       " ['prod00005'],\n",
       " ['prod00029'],\n",
       " ['prod00005'],\n",
       " ['prod00015'],\n",
       " ['prod00015'],\n",
       " ['prod00015'],\n",
       " ['prod00015'],\n",
       " ['prod00005'],\n",
       " ['prod00002']]"
      ]
     },
     "execution_count": 26,
     "metadata": {},
     "output_type": "execute_result"
    }
   ],
   "source": [
    "product_1[:10]"
   ]
  },
  {
   "cell_type": "code",
   "execution_count": 27,
   "metadata": {},
   "outputs": [],
   "source": [
    "lookup = keras.layers.StringLookup(output_mode='binary')\n",
    "lookup.adapt(product_1)\n",
    "x_df_int = lookup(product_1)"
   ]
  },
  {
   "cell_type": "code",
   "execution_count": 29,
   "metadata": {},
   "outputs": [
    {
     "data": {
      "text/plain": [
       "TensorShape([9376, 38])"
      ]
     },
     "execution_count": 29,
     "metadata": {},
     "output_type": "execute_result"
    }
   ],
   "source": [
    "x_df_int.shape"
   ]
  },
  {
   "cell_type": "code",
   "execution_count": null,
   "metadata": {},
   "outputs": [],
   "source": []
  }
 ],
 "metadata": {
  "interpreter": {
   "hash": "7cc056a87779a9cf21be25d923e268f9d95563a30d10c8f25f6225f96f103ebe"
  },
  "kernelspec": {
   "display_name": "Python 3.8.10 ('env')",
   "language": "python",
   "name": "python3"
  },
  "language_info": {
   "codemirror_mode": {
    "name": "ipython",
    "version": 3
   },
   "file_extension": ".py",
   "mimetype": "text/x-python",
   "name": "python",
   "nbconvert_exporter": "python",
   "pygments_lexer": "ipython3",
   "version": "3.8.10"
  },
  "orig_nbformat": 4
 },
 "nbformat": 4,
 "nbformat_minor": 2
}
